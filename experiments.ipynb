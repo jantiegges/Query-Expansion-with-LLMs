{
 "cells": [
  {
   "cell_type": "code",
   "execution_count": 1,
   "metadata": {},
   "outputs": [
    {
     "name": "stderr",
     "output_type": "stream",
     "text": [
      "/Users/jantiegges/.pyenv/versions/3.10.13/envs/550-final/lib/python3.10/site-packages/tqdm/auto.py:21: TqdmWarning: IProgress not found. Please update jupyter and ipywidgets. See https://ipywidgets.readthedocs.io/en/stable/user_install.html\n",
      "  from .autonotebook import tqdm as notebook_tqdm\n"
     ]
    }
   ],
   "source": [
    "from pyserini.search.lucene import LuceneSearcher\n",
    "from datasets import load_dataset\n",
    "from dotenv import load_dotenv\n",
    "import os\n",
    "from langchain.chat_models import ChatOpenAI, ChatCohere, ChatAnyscale\n",
    "\n",
    "from main import get_query_expansion_dataset, run_search"
   ]
  },
  {
   "cell_type": "code",
   "execution_count": 2,
   "metadata": {},
   "outputs": [],
   "source": [
    "# set up LLMs, assumes that API keys are stored in .env file\n",
    "load_dotenv(override=True)\n",
    "chats = {}\n",
    "\n",
    "# OpenAI\n",
    "try: \n",
    "    openai_api_key = os.getenv(\"OPENAI_API_KEY\")\n",
    "    chat_openai = ChatOpenAI(openai_api_key=openai_api_key, model=\"gpt-3.5-turbo\")\n",
    "    chats[\"OpenAI\"] = chat_openai\n",
    "except:\n",
    "    print(\"Could not initialize OpenAI chatbot. Please store a valid API key in a .env file.\")\n",
    "\n",
    "# Cohere\n",
    "try:\n",
    "    cohere_api_key = os.getenv(\"COHERE_API_KEY\")\n",
    "    chat_cohere = ChatCohere(cohere_api_key=cohere_api_key)\n",
    "    chats[\"Cohere\"] = chat_cohere\n",
    "except:\n",
    "    print(\"Could not initialize Cohere chatbot. Please store a valid API key in a .env file.\")\n",
    "\n",
    "# Llama 2 (Anyscale)\n",
    "try: \n",
    "    anyscale_api_key = os.getenv(\"ANYSCALE_API_KEY\")\n",
    "    chat_llama = ChatAnyscale(model_name=\"meta-llama/Llama-2-7b-chat-hf\", anyscale_api_key=anyscale_api_key)\n",
    "    chats[\"Llama 2\"] = chat_llama\n",
    "except:\n",
    "    print(\"Could not initialize Anyscale chatbot. Please store a valid API key in a .env file.\")"
   ]
  },
  {
   "cell_type": "markdown",
   "metadata": {},
   "source": [
    "## Experiments Set 1: All prompts, english language, all models"
   ]
  },
  {
   "cell_type": "code",
   "execution_count": 3,
   "metadata": {},
   "outputs": [],
   "source": [
    "# Load the Miracl dataset (english version)\n",
    "dataset = load_dataset(\"Cohere/miracl-en-queries-22-12\", split=\"dev\")\n",
    "dataset = dataset.to_pandas().to_dict(orient='records')\n",
    "\n",
    "# set up searcher\n",
    "searcher = LuceneSearcher.from_prebuilt_index('miracl-v1.0-en')"
   ]
  },
  {
   "cell_type": "markdown",
   "metadata": {},
   "source": [
    "## 1) Baseline"
   ]
  },
  {
   "cell_type": "code",
   "execution_count": 4,
   "metadata": {},
   "outputs": [],
   "source": [
    "recall_baseline, ndcg_baseline = run_search(searcher, dataset)\n",
    "\n",
    "print(f'BM25 Recall@100: {recall_baseline:.4f}')\n",
    "print(f'BM25 nDCG@10: {ndcg_baseline:.4f}')\n",
    "print(\"\\n\")"
   ]
  },
  {
   "cell_type": "markdown",
   "metadata": {},
   "source": [
    "## 2) Query2Doc Zero Shot Prompting"
   ]
  },
  {
   "cell_type": "code",
   "execution_count": 6,
   "metadata": {},
   "outputs": [
    {
     "name": "stderr",
     "output_type": "stream",
     "text": [
      "Expanding queries:   0%|          | 0/5 [00:00<?, ?it/s]"
     ]
    },
    {
     "name": "stderr",
     "output_type": "stream",
     "text": [
      "Expanding queries: 100%|██████████| 5/5 [01:10<00:00, 14.11s/it]\n",
      "Searching: 100%|██████████| 5/5 [00:14<00:00,  2.83s/it]\n"
     ]
    },
    {
     "name": "stdout",
     "output_type": "stream",
     "text": [
      "OpenAI Recall@100: 0.8333\n",
      "OpenAI nDCG@10: 0.2921\n",
      "\n",
      "\n"
     ]
    },
    {
     "name": "stderr",
     "output_type": "stream",
     "text": [
      "Expanding queries: 100%|██████████| 5/5 [01:06<00:00, 13.30s/it]\n",
      "Searching: 100%|██████████| 5/5 [00:17<00:00,  3.51s/it]\n"
     ]
    },
    {
     "name": "stdout",
     "output_type": "stream",
     "text": [
      "Cohere Recall@100: 0.7667\n",
      "Cohere nDCG@10: 0.3049\n",
      "\n",
      "\n"
     ]
    },
    {
     "name": "stderr",
     "output_type": "stream",
     "text": [
      "Expanding queries: 100%|██████████| 5/5 [00:27<00:00,  5.52s/it]\n",
      "Searching: 100%|██████████| 5/5 [00:08<00:00,  1.77s/it]"
     ]
    },
    {
     "name": "stdout",
     "output_type": "stream",
     "text": [
      "Llama 2 Recall@100: 0.7667\n",
      "Llama 2 nDCG@10: 0.3563\n",
      "\n",
      "\n"
     ]
    },
    {
     "name": "stderr",
     "output_type": "stream",
     "text": [
      "\n"
     ]
    }
   ],
   "source": [
    "for chat_name, chat in chats.items():\n",
    "    expanded_dataset = get_query_expansion_dataset(dataset, chat, chat_name, lang='en', prompt='q2d-zs')\n",
    "\n",
    "    recall, ndcg = run_search(searcher, expanded_dataset)\n",
    "    print(f'{chat_name} Recall@100: {recall:.4f}') \n",
    "    print(f'{chat_name} nDCG@10: {ndcg:.4f}')\n",
    "    print(\"\\n\")"
   ]
  },
  {
   "cell_type": "markdown",
   "metadata": {},
   "source": [
    "## 3) Q2D zero shot prompting with pseudo-relevant feedback"
   ]
  },
  {
   "cell_type": "code",
   "execution_count": null,
   "metadata": {},
   "outputs": [
    {
     "name": "stdout",
     "output_type": "stream",
     "text": [
      "Getting prf documents...\n"
     ]
    },
    {
     "name": "stderr",
     "output_type": "stream",
     "text": [
      "Searching: 100%|██████████| 5/5 [00:00<00:00, 72.71it/s]\n"
     ]
    },
    {
     "name": "stdout",
     "output_type": "stream",
     "text": [
      "Done.\n"
     ]
    },
    {
     "name": "stderr",
     "output_type": "stream",
     "text": [
      "Expanding queries: 100%|██████████| 5/5 [00:52<00:00, 10.54s/it]\n",
      "Searching: 100%|██████████| 5/5 [00:08<00:00,  1.60s/it]"
     ]
    },
    {
     "name": "stdout",
     "output_type": "stream",
     "text": [
      "BM25 Recall@100: 0.9000\n",
      "BM25 nDCG@10: 0.3924\n",
      "\n",
      "\n"
     ]
    },
    {
     "name": "stderr",
     "output_type": "stream",
     "text": [
      "\n"
     ]
    }
   ],
   "source": [
    "for chat_name, chat in chats.items():\n",
    "    expanded_dataset = get_query_expansion_dataset(dataset[:5], chat, chat_name, lang='en', prompt='q2d-zs-prf')\n",
    "\n",
    "    recall, ndcg = run_search(searcher, expanded_dataset)\n",
    "    print(f'{chat_name} Recall@100: {recall:.4f}') \n",
    "    print(f'{chat_name} nDCG@10: {ndcg:.4f}')\n",
    "    print(\"\\n\")"
   ]
  },
  {
   "cell_type": "markdown",
   "metadata": {},
   "source": [
    "## 4) Keywords with zero-shot prompting"
   ]
  },
  {
   "cell_type": "code",
   "execution_count": 8,
   "metadata": {},
   "outputs": [
    {
     "name": "stderr",
     "output_type": "stream",
     "text": [
      "Expanding queries:   0%|          | 0/799 [00:00<?, ?it/s]"
     ]
    },
    {
     "name": "stderr",
     "output_type": "stream",
     "text": [
      "Expanding queries: 100%|██████████| 799/799 [54:50<00:00,  4.12s/it]  \n",
      "Searching: 100%|██████████| 799/799 [01:25<00:00,  9.38it/s]"
     ]
    },
    {
     "name": "stdout",
     "output_type": "stream",
     "text": [
      "BM25 Recall@100: 0.8433\n",
      "BM25 nDCG@10: 0.3745\n",
      "\n",
      "\n"
     ]
    },
    {
     "name": "stderr",
     "output_type": "stream",
     "text": [
      "\n"
     ]
    }
   ],
   "source": [
    "for chat_name, chat in chats.items():\n",
    "    expanded_dataset = get_query_expansion_dataset(dataset[:5], chat, chat_name, lang='en', prompt='q2e-zs')\n",
    "\n",
    "    recall, ndcg = run_search(searcher, expanded_dataset)\n",
    "    print(f'{chat_name} Recall@100: {recall:.4f}') \n",
    "    print(f'{chat_name} nDCG@10: {ndcg:.4f}')\n",
    "    print(\"\\n\")"
   ]
  },
  {
   "cell_type": "markdown",
   "metadata": {},
   "source": [
    "## 5) Keywords with pseudo-relevant feedback"
   ]
  },
  {
   "cell_type": "code",
   "execution_count": 9,
   "metadata": {},
   "outputs": [
    {
     "name": "stdout",
     "output_type": "stream",
     "text": [
      "Getting prf documents...\n"
     ]
    },
    {
     "name": "stderr",
     "output_type": "stream",
     "text": [
      "Searching:  11%|█         | 89/799 [00:02<00:28, 25.03it/s]"
     ]
    },
    {
     "name": "stderr",
     "output_type": "stream",
     "text": [
      "Searching: 100%|██████████| 799/799 [00:26<00:00, 30.04it/s]\n"
     ]
    },
    {
     "name": "stdout",
     "output_type": "stream",
     "text": [
      "Done.\n"
     ]
    },
    {
     "name": "stderr",
     "output_type": "stream",
     "text": [
      "Expanding queries: 100%|██████████| 799/799 [1:02:36<00:00,  4.70s/it]\n",
      "Searching: 100%|██████████| 799/799 [02:56<00:00,  4.53it/s]"
     ]
    },
    {
     "name": "stdout",
     "output_type": "stream",
     "text": [
      "BM25 Recall@100: 0.8337\n",
      "BM25 nDCG@10: 0.3722\n",
      "\n",
      "\n"
     ]
    },
    {
     "name": "stderr",
     "output_type": "stream",
     "text": [
      "\n"
     ]
    }
   ],
   "source": [
    "for chat_name, chat in chats.items():\n",
    "    expanded_dataset = get_query_expansion_dataset(dataset[:5], chat, chat_name, lang='en', prompt='q2e-zs-prf')\n",
    "\n",
    "    recall, ndcg = run_search(searcher, expanded_dataset)\n",
    "    print(f'{chat_name} Recall@100: {recall:.4f}') \n",
    "    print(f'{chat_name} nDCG@10: {ndcg:.4f}')\n",
    "    print(\"\\n\")"
   ]
  },
  {
   "cell_type": "markdown",
   "metadata": {},
   "source": [
    "## 6) Chain of thought prompting"
   ]
  },
  {
   "cell_type": "code",
   "execution_count": 11,
   "metadata": {},
   "outputs": [
    {
     "name": "stderr",
     "output_type": "stream",
     "text": [
      "Searching:   0%|          | 0/799 [00:00<?, ?it/s]"
     ]
    },
    {
     "name": "stderr",
     "output_type": "stream",
     "text": [
      "Searching: 100%|██████████| 799/799 [30:35<00:00,  2.30s/it]"
     ]
    },
    {
     "name": "stdout",
     "output_type": "stream",
     "text": [
      "BM25 Recall@100: 0.8866\n",
      "BM25 nDCG@10: 0.4877\n",
      "\n",
      "\n"
     ]
    },
    {
     "name": "stderr",
     "output_type": "stream",
     "text": [
      "\n"
     ]
    }
   ],
   "source": [
    "for chat_name, chat in chats.items():\n",
    "    expanded_dataset = get_query_expansion_dataset(dataset[:5], chat, chat_name, lang='en', prompt='chain-of-thought')\n",
    "\n",
    "    recall, ndcg = run_search(searcher, expanded_dataset)\n",
    "    print(f'{chat_name} Recall@100: {recall:.4f}') \n",
    "    print(f'{chat_name} nDCG@10: {ndcg:.4f}')\n",
    "    print(\"\\n\")"
   ]
  },
  {
   "cell_type": "markdown",
   "metadata": {},
   "source": [
    "## 7) Chain of thought prompting with psuedo-relevant feedback"
   ]
  },
  {
   "cell_type": "code",
   "execution_count": 7,
   "metadata": {},
   "outputs": [
    {
     "name": "stdout",
     "output_type": "stream",
     "text": [
      "Getting prf documents...\n"
     ]
    },
    {
     "name": "stderr",
     "output_type": "stream",
     "text": [
      "Searching: 100%|██████████| 799/799 [00:30<00:00, 25.81it/s]\n"
     ]
    },
    {
     "name": "stdout",
     "output_type": "stream",
     "text": [
      "Done.\n"
     ]
    },
    {
     "name": "stderr",
     "output_type": "stream",
     "text": [
      "Expanding queries: 100%|██████████| 799/799 [1:41:54<00:00,  7.65s/it]  \n",
      "Searching: 100%|██████████| 799/799 [09:45<00:00,  1.36it/s]"
     ]
    },
    {
     "name": "stdout",
     "output_type": "stream",
     "text": [
      "BM25 Recall@100: 0.8486\n",
      "BM25 nDCG@10: 0.4343\n",
      "\n",
      "\n"
     ]
    },
    {
     "name": "stderr",
     "output_type": "stream",
     "text": [
      "\n"
     ]
    }
   ],
   "source": [
    "for chat_name, chat in chats.items():\n",
    "    expanded_dataset = get_query_expansion_dataset(dataset[:5], chat, chat_name, lang='en', prompt='chain-of-thought-prf')\n",
    "\n",
    "    recall, ndcg = run_search(searcher, expanded_dataset)\n",
    "    print(f'{chat_name} Recall@100: {recall:.4f}') \n",
    "    print(f'{chat_name} nDCG@10: {ndcg:.4f}')\n",
    "    print(\"\\n\")"
   ]
  },
  {
   "cell_type": "markdown",
   "metadata": {},
   "source": [
    "# Experiments Set 2: Chain-of-thought prompt, various languages, all models"
   ]
  },
  {
   "cell_type": "markdown",
   "metadata": {},
   "source": [
    "## 1) French"
   ]
  },
  {
   "cell_type": "code",
   "execution_count": 3,
   "metadata": {},
   "outputs": [],
   "source": [
    "# Load the Miracl dataset (english version)\n",
    "dataset = load_dataset(\"Cohere/miracl-fr-queries-22-12\", split=\"dev\")\n",
    "dataset = dataset.to_pandas().to_dict(orient='records')\n",
    "\n",
    "# set up searcher\n",
    "searcher = LuceneSearcher.from_prebuilt_index('miracl-v1.0-fr')"
   ]
  },
  {
   "cell_type": "code",
   "execution_count": 4,
   "metadata": {},
   "outputs": [
    {
     "name": "stderr",
     "output_type": "stream",
     "text": [
      "Expanding queries:  20%|██        | 1/5 [00:26<01:44, 26.08s/it]"
     ]
    },
    {
     "name": "stdout",
     "output_type": "stream",
     "text": [
      "Qu'est-ce que c'est une famille patricienne? Qu'est-ce que c'est une famille patricienne? Qu'est-ce que c'est une famille patricienne? Qu'est-ce que c'est une famille patricienne? Qu'est-ce que c'est une famille patricienne? Une famille patricienne est une famille qui appartient à la classe aristocratique ou noble d'une société. Elle est souvent reconnue pour son statut élevé, ses privilèges et sa richesse. Les familles patriciennes ont généralement une longue histoire et sont souvent liées à des titres de noblesse ou à des positions de pouvoir. Elles sont souvent très influentes dans la politique, l'économie et la culture de leur époque. De plus, elles peuvent avoir des privilèges spéciaux, tels que des droits fonciers, des exemptions fiscales ou des privilèges juridiques. Cependant, au fil du temps et des changements sociaux, l'importance des familles patriciennes a pu diminuer ou même disparaître dans certaines sociétés.\n"
     ]
    },
    {
     "name": "stderr",
     "output_type": "stream",
     "text": [
      "Expanding queries:  40%|████      | 2/5 [00:50<01:15, 25.29s/it]"
     ]
    },
    {
     "name": "stdout",
     "output_type": "stream",
     "text": [
      "Pourquoi est-ce que Saint Patrick est célèbre? Pourquoi est-ce que Saint Patrick est célèbre? Pourquoi est-ce que Saint Patrick est célèbre? Pourquoi est-ce que Saint Patrick est célèbre? Pourquoi est-ce que Saint Patrick est célèbre? Saint Patrick est célèbre pour plusieurs raisons. Tout d'abord, il est considéré comme le saint patron de l'Irlande. Il est vénéré pour avoir converti les Irlandais au christianisme au Ve siècle. Saint Patrick est également connu pour avoir chassé les serpents d'Irlande, bien que cette légende soit plus symbolique que réelle. Chaque année, le 17 mars, les Irlandais célèbrent la fête de la Saint-Patrick en son honneur. Cette fête est caractérisée par des défilés, des festivités et la couleur verte qui est associée à Saint Patrick. En résumé, Saint Patrick est célèbre en raison de son rôle dans la christianisation de l'Irlande et de la fête annuelle qui lui est dédiée.\n"
     ]
    },
    {
     "name": "stderr",
     "output_type": "stream",
     "text": [
      "Expanding queries:  60%|██████    | 3/5 [01:03<00:39, 19.67s/it]"
     ]
    },
    {
     "name": "stdout",
     "output_type": "stream",
     "text": [
      "Pourquoi on a besoin de charbon? Pourquoi on a besoin de charbon? Pourquoi on a besoin de charbon? Pourquoi on a besoin de charbon? Pourquoi on a besoin de charbon? On a besoin de charbon pour plusieurs raisons. Tout d'abord, le charbon est une source d'énergie abondante et bon marché. Il est utilisé dans de nombreuses industries telles que la production d'électricité, la sidérurgie et la fabrication de ciment. Le charbon permet également de chauffer les foyers et les bâtiments, notamment dans les régions où d'autres sources d'énergie sont moins accessibles. De plus, le charbon est une ressource nationale qui permet de réduire la dépendance aux importations d'énergie. Cependant, il est important de noter que l'utilisation du charbon contribue aux émissions de gaz à effet de serre et à la pollution de l'air. Il est donc nécessaire de trouver des alternatives plus propres et durables pour répondre à nos besoins énergétiques.\n"
     ]
    },
    {
     "name": "stderr",
     "output_type": "stream",
     "text": [
      "Expanding queries:  80%|████████  | 4/5 [02:03<00:35, 35.49s/it]"
     ]
    },
    {
     "name": "stdout",
     "output_type": "stream",
     "text": [
      "Pourquoi est-ce qu'on peut construire un ecovillage? Pourquoi est-ce qu'on peut construire un ecovillage? Pourquoi est-ce qu'on peut construire un ecovillage? Pourquoi est-ce qu'on peut construire un ecovillage? Pourquoi est-ce qu'on peut construire un ecovillage? On peut construire un ecovillage pour plusieurs raisons. Tout d'abord, il s'agit d'une réponse concrète et durable aux défis environnementaux auxquels notre planète est confrontée. En adoptant des pratiques écologiques et durables, un ecovillage vise à réduire son empreinte carbone et à préserver les ressources naturelles.\n",
      "\n",
      "De plus, un ecovillage favorise la création d'une communauté solidaire et engagée. En vivant ensemble, les résidents de l'ecovillage peuvent partager des valeurs communes telles que le respect de l'environnement, la coopération et l'échange de savoir-faire. Cela favorise une meilleure qualité de vie et le renforcement des liens sociaux.\n",
      "\n",
      "Un autre avantage de la construction d'un ecovillage est la promotion d'une économie locale et circulaire. En favorisant les activités économiques durables et en soutenant les producteurs locaux, un ecovillage contribue à créer des emplois locaux et à réduire l'impact néfaste de la mondialisation sur l'environnement.\n",
      "\n",
      "Enfin, un ecovillage permet d'expérimenter de nouvelles façons de vivre en harmonie avec la nature. Il offre un espace d'innovation et de créativité où les habitants peuvent développer des solutions alternatives dans les domaines de l'énergie, de l'agriculture, de l'habitat, de la mobilité, etc.\n",
      "\n",
      "En somme, la construction d'un ecovillage représente une réponse concrète et inspirante aux enjeux environnementaux et sociaux actuels. C'est un projet qui offre de nombreux bénéfices tant pour l'individu que pour la collectivité.\n"
     ]
    },
    {
     "name": "stderr",
     "output_type": "stream",
     "text": [
      "Expanding queries: 100%|██████████| 5/5 [02:19<00:00, 27.92s/it]\n"
     ]
    },
    {
     "name": "stdout",
     "output_type": "stream",
     "text": [
      "Comment sont créés les astéroïdes? Comment sont créés les astéroïdes? Comment sont créés les astéroïdes? Comment sont créés les astéroïdes? Comment sont créés les astéroïdes? Les astéroïdes sont créés à partir de la matière restante du système solaire primitif. Il y a environ 4,6 milliards d'années, de grandes quantités de poussière, de gaz et de matériaux rocheux ont commencé à s'agglomérer dans le disque protoplanétaire qui entourait le jeune Soleil. Sous l'effet de la gravité, ces matériaux se sont progressivement condensés en petites particules solides appelées planétésimaux. Au fil du temps, ces planétésimaux ont continué à se coller et à se fusionner, formant ainsi des astéroïdes de tailles variées. Certains astéroïdes sont restés dans la ceinture principale située entre Mars et Jupiter, tandis que d'autres ont été éjectés vers d'autres régions du système solaire. Aujourd'hui, les astéroïdes sont considérés comme des vestiges du passé, offrant des indices précieux sur la formation et l'évolution de notre système solaire.\n"
     ]
    },
    {
     "name": "stderr",
     "output_type": "stream",
     "text": [
      "Searching: 100%|██████████| 5/5 [00:04<00:00,  1.07it/s]\n"
     ]
    },
    {
     "name": "stdout",
     "output_type": "stream",
     "text": [
      "OpenAI Recall@100: 0.4500\n",
      "OpenAI nDCG@10: 0.1320\n",
      "\n",
      "\n"
     ]
    },
    {
     "name": "stderr",
     "output_type": "stream",
     "text": [
      "Expanding queries:  20%|██        | 1/5 [00:08<00:33,  8.31s/it]"
     ]
    },
    {
     "name": "stdout",
     "output_type": "stream",
     "text": [
      "Qu'est-ce que c'est une famille patricienne? Qu'est-ce que c'est une famille patricienne? Qu'est-ce que c'est une famille patricienne? Qu'est-ce que c'est une famille patricienne? Qu'est-ce que c'est une famille patricienne? Here is a passage in French that answers the query \"What is a patrician family?\":\n",
      "\n",
      "\"Un famille patricienne, ou patrician family, réfère aux personnes qui ont les relations épiscopales et qui se placent à la hauteur de la société dans l'antiquité romaine. C'est à dire, ils ont la possibilité de rejoindre les professions libres, dont on était en majorité des hommes politiques, des abbés, des officiers de l'armée ou des entrepreneurs. Ces familles ont généralement un bon nombre de possessions financières, dont ils bénéficieront pour assurer leurs privileges. Plus les siècles ont écoulé, plus les familles patriciennes ont tendance à se maintenir à la hauteur de leurs positions sociales et de conserver leurs possessions. C'est la raison pour laquelle ils étaient considérés comme les maîtres de la ville dans l'Antiquité.\"\n",
      "\n",
      "Would you like me to translate this passage for you?\n"
     ]
    },
    {
     "name": "stderr",
     "output_type": "stream",
     "text": [
      "Expanding queries:  40%|████      | 2/5 [00:16<00:25,  8.36s/it]"
     ]
    },
    {
     "name": "stdout",
     "output_type": "stream",
     "text": [
      "Pourquoi est-ce que Saint Patrick est célèbre? Pourquoi est-ce que Saint Patrick est célèbre? Pourquoi est-ce que Saint Patrick est célèbre? Pourquoi est-ce que Saint Patrick est célèbre? Pourquoi est-ce que Saint Patrick est célèbre? Saint Patrick is celebrated for driving out the snakes from Ireland, bringing Christianity to the country, and using the three leaves of the shamrock to explain the Holy Trinity to the Irish people. Here is a passage in French that answers the question \"Why is Saint Patrick celebrated?\":\n",
      "\n",
      "\"Saint Patrick est célèbre pour tant qu'il a drivé les serpents de l'Irlande, introduit la christianité dans l'île et utilisé le shamrock à trois feuilles pour expliquer la Trinité divine aux Irlandais. C'est à l'église catholique qui l'a désigné comme un saint et il est célèbre dans plusieurs provinces de l'Irlande, notamment dans le province de Ulster, mais aussi dans plusieurs autres pays, notamment les États-Unis, où le saint est célébré le 17 mars de each year. Dans certains endroits, on retrouve aussi des traditions telles que les processions, les carnivals et les festivals qui s'organisent autour de Saint Patrick.\" \n",
      "\n",
      "Would you like me to translate this passage to English for you?\n"
     ]
    },
    {
     "name": "stderr",
     "output_type": "stream",
     "text": [
      "Expanding queries:  60%|██████    | 3/5 [00:29<00:20, 10.29s/it]"
     ]
    },
    {
     "name": "stdout",
     "output_type": "stream",
     "text": [
      "Pourquoi on a besoin de charbon? Pourquoi on a besoin de charbon? Pourquoi on a besoin de charbon? Pourquoi on a besoin de charbon? Pourquoi on a besoin de charbon? Here is a passage in French that answers the query \"Pourquoi on a besoin de charbon?\" (Why do we need coal?):\n",
      "\n",
      "\"Charbon est un combustible de prime importance, utilisé dans plusieurs industries à travers le monde. Il est producteur de grande quantité de chaleur et de l'électricité, de manière éfficiente et économique.\n",
      "\n",
      "Il faut primary sur le charbon pour les énergies renouvelables, car il peut être utilisé dans certains pays dans le monde pour produire de l'électricité à travers les centrales thermiques. En plus de cela, le charbon est utilisé dans plusieurs procédés industriels, y compris les fabrication de carbone, le fer et plusieurs autres matières premières.\n",
      "\n",
      "En outre, le charbon est utilisé dans la fournaise à bois, pour les besoins domestiques et pour la production de barbeque. Charbon est également utilisé dans certains pays comme le Bangladesh et le Nepal, où il est utilisé pour les feux de cheminée et les bois de chauffage, dans l'intention de réchauffer les maisons et les endroits vers lesquels on aspire à accéder.\n",
      "\n",
      "En conclusion, le charbon est un combustible versé pour la production de chaleur et de l'électricité, aussi bien pour les industries que les besoins domestiques. Il est également utilisé dans le monde dans plusieurs pays, y compris les pays développés et les pays en développement, où il peut être utilisé dans plusieurs contextes.\" \n",
      "\n",
      "Would you like me to translate this passage to English?\n"
     ]
    },
    {
     "name": "stderr",
     "output_type": "stream",
     "text": [
      "Expanding queries:  80%|████████  | 4/5 [00:44<00:12, 12.40s/it]"
     ]
    },
    {
     "name": "stdout",
     "output_type": "stream",
     "text": [
      "Pourquoi est-ce qu'on peut construire un ecovillage? Pourquoi est-ce qu'on peut construire un ecovillage? Pourquoi est-ce qu'on peut construire un ecovillage? Pourquoi est-ce qu'on peut construire un ecovillage? Pourquoi est-ce qu'on peut construire un ecovillage? Here is a passage in French that discusses why one would want to build an ecovillage: \n",
      "\n",
      "\"Un écovillage, ou village écologique, est un type de habitat cohérent dont le but principal est d'utiliser des méthodes durables pour préserver l'environnement dans toutes ses dimensions, notamment en matière de construction, de gestion des ressources, de production alimentaire et de consommation.\n",
      "\n",
      "Il existe plusieurs motivations pour construire et vivre dans un écovillage. D'une part, c'est un moyen de contribuer à la protection de l'environnement et de promouvoir des activités écologiques. L'écocitoyen est un milieu naturel où l'on peut vivre en reconnaissant la richesse du vivant et de la nature. De plus, l'écocitoyen encourage la durabilité, car les maisons sont conçues et construites à la façon les plus éco-conçues, utilisant des matériaux locaux et recyclés. \n",
      "\n",
      "De autre part, un écovillage créé une petite communauté fermière où l'on peut produire son propre alimentaire, créer des affaires locales et favoriser l'autosuffisance en termes d'énergie aussi. Cela promeut également la coopération et la solidarité dans la vie de chaque commune. Chaque écovillager peut contribuer à l'élaboration d'une vision commune et à la construction d'un écovillage durable qui sera à la fois profitable et durABLE.\n",
      "\n",
      "En conclusion, l'écovillage est une excellente option pour les personnes qui souhaitent contribuer à une vie plus écolo et vivre dans une communauté développée. C'est un moyen de prendre soin de notre planète tout en profitant de la vie dans un endroit où l'on peut épanouir sa vie, écouter et reconnaître la nature.\" \n",
      "\n",
      "Would you like me to translate this passage for you?\n"
     ]
    },
    {
     "name": "stderr",
     "output_type": "stream",
     "text": [
      "Expanding queries: 100%|██████████| 5/5 [00:54<00:00, 10.88s/it]\n"
     ]
    },
    {
     "name": "stdout",
     "output_type": "stream",
     "text": [
      "Comment sont créés les astéroïdes? Comment sont créés les astéroïdes? Comment sont créés les astéroïdes? Comment sont créés les astéroïdes? Comment sont créés les astéroïdes? Here is a passage in French that discusses the formation of asteroids:\n",
      "\n",
      "Les astéroïdes sont généralement créés dans certains zones de la galaxie, notamment dans les galaxies peu animées où la matière ne se compose pas seulement de hydrogène et d'hydrogène soumis à l'action des forces gravitationnelles. C'est dans ces zones que les collisions entre les galaxIES et les orbites chaotiques des étoiles les plus jeunes ont créé des tonnes de matière inconsistante et sans forme, appelées la matière fondamentale. Ces petits boutons de matière fondamentale les plus rudimentaires seront ensuite transformés en astéroïdes plus grands grâce à d'autres collisions et à la consolidation de leurs corps grâce à la compression gravitationale.\n",
      "\n",
      "Asteroids are generally created in certain regions of the galaxy, particularly in low-activity galaxies composed mainly of hydrogen and helium subjected to gravitational forces. It is in these areas that collisions between galaxies and the chaotic orbits of young stars have created tons of unconsolidated, amorphous matter called fundamental matter. These rudimentary particles of fundamental matter will later be transformed into larger asteroids due to other collisions and the gravitational consolidation of their bodies.\n",
      "\n",
      "Would you like me to translate anything else for you?\n"
     ]
    },
    {
     "name": "stderr",
     "output_type": "stream",
     "text": [
      "Searching: 100%|██████████| 5/5 [00:02<00:00,  1.90it/s]\n"
     ]
    },
    {
     "name": "stdout",
     "output_type": "stream",
     "text": [
      "Cohere Recall@100: 0.3667\n",
      "Cohere nDCG@10: 0.1106\n",
      "\n",
      "\n"
     ]
    },
    {
     "name": "stderr",
     "output_type": "stream",
     "text": [
      "Expanding queries:  20%|██        | 1/5 [00:03<00:15,  3.80s/it]"
     ]
    },
    {
     "name": "stdout",
     "output_type": "stream",
     "text": [
      "Qu'est-ce que c'est une famille patricienne? Qu'est-ce que c'est une famille patricienne? Qu'est-ce que c'est une famille patricienne? Qu'est-ce que c'est une famille patricienne? Qu'est-ce que c'est une famille patricienne?   Sure! Here's a passage in French that answers the query \"Qu'est-ce que c'est une famille patricienne?\":\n",
      "\n",
      "Une famille patricienne est une famille de noblesse ancienne et honorée, qui a acquis sa richesse et sa noblesse au fil des siècles grâce à des alliances matrimoniales stratégiques et à une gestion habile de ses biens. Les patriciens ont souvent occupé des positions de pouvoir dans la société, notamment dans les gouvernements, les conseils municipaux et les conseils provinciaux. Ils ont également eu un rôle important dans la politique, la religion et les arts. La dignité, la gravité et la noblesse sont caractéristiques de la famille patricienne. Les patriciens ont souvent des noms de famille qui remontent à des origines antiques et qui sont souvent associés à des traditions et des customs spécifiques.\n"
     ]
    },
    {
     "name": "stderr",
     "output_type": "stream",
     "text": [
      "Expanding queries:  40%|████      | 2/5 [00:09<00:15,  5.06s/it]"
     ]
    },
    {
     "name": "stdout",
     "output_type": "stream",
     "text": [
      "Pourquoi est-ce que Saint Patrick est célèbre? Pourquoi est-ce que Saint Patrick est célèbre? Pourquoi est-ce que Saint Patrick est célèbre? Pourquoi est-ce que Saint Patrick est célèbre? Pourquoi est-ce que Saint Patrick est célèbre?   Sure! Here's a passage in French that answers the question \"Why is Saint Patrick celebrated?\"\n",
      "\n",
      "Saint Patrick est célèbre pour de nombreuses raisons. Tout d'abord, il est considéré comme le patron des Irlandais, car il a évangélisé l'île sainte et a converti de nombreux habitants au christianisme. Ensuite, il est également célèbre pour son travail d'apôtre, qui a consisté à utiliser la croix comme symbole de la religion chrétienne. Cette symbolique a été adoptée par les Irlandais et est devenue un élément important de leur culture. Enfin, Saint Patrick est célèbre pour sa date de fête, qui est célébrée le 17 mars. Cette date a été choisie en l'honneur de la date de sa mort, qui avait lieu le 17 mars 461 apr. J.-C.\n",
      "\n",
      "In English, this passage translates to:\n",
      "\n",
      "Saint Patrick is celebrated for many reasons. Firstly, he is considered the patron of the Irish, as he evangelized the holy island and converted many inhabitants to Christianity. Secondly, he is famous for his work as an apostle, which consisted of using the cross as a symbol of the Christian religion. This symbolism was adopted by the Irish and became an important part of their culture. Finally, Saint Patrick is celebrated for his feast day, which is celebrated on March 17th. This date was chosen in honor of the date of his death, which occurred on March 17th 461 AD.\n"
     ]
    },
    {
     "name": "stderr",
     "output_type": "stream",
     "text": [
      "Expanding queries:  60%|██████    | 3/5 [00:14<00:09,  4.99s/it]"
     ]
    },
    {
     "name": "stdout",
     "output_type": "stream",
     "text": [
      "Pourquoi on a besoin de charbon? Pourquoi on a besoin de charbon? Pourquoi on a besoin de charbon? Pourquoi on a besoin de charbon? Pourquoi on a besoin de charbon?   Sure! Here's a passage in French that answers the query \"Pourquoi on a besoin de charbon?\" (Why do we need coal?):\n",
      "\n",
      "\"On a besoin de charbon pour plusieurs raisons. Tout d'abord, le charbon est une source d'énergie abondante et facile à atteindre. Il existe des réserves de charbon à travers le monde, notamment dans les mines de charbon exploitées depuis longtemps. En outre, le charbon est un comburant puissant qui peut être utilisé pour produire de la chaleur et de l'électricité. Enfin, le charbon est un combustible relativement bon marché par rapport à d'autres sources d'énergie, telles que le pétrole ou le gaz naturel. Cela en fait un choix attractif pour les industries et les ménages qui ont besoin d'une grande quantité d'énergie.\"\n",
      "\n",
      "Translation:\n",
      "\n",
      "\"We need coal for several reasons. Firstly, coal is an abundant and easily accessible source of energy. There are coal reserves throughout the world, particularly in long-established mines. In addition, coal is a powerful combustible that can be used to produce heat and electricity. Furthermore, coal is a relatively affordable fuel compared to other energy sources, such as oil or natural gas. This makes it an attractive choice for industries and households that require a large amount of energy.\"\n"
     ]
    },
    {
     "name": "stderr",
     "output_type": "stream",
     "text": [
      "Expanding queries:  80%|████████  | 4/5 [00:25<00:07,  7.35s/it]"
     ]
    },
    {
     "name": "stdout",
     "output_type": "stream",
     "text": [
      "Pourquoi est-ce qu'on peut construire un ecovillage? Pourquoi est-ce qu'on peut construire un ecovillage? Pourquoi est-ce qu'on peut construire un ecovillage? Pourquoi est-ce qu'on peut construire un ecovillage? Pourquoi est-ce qu'on peut construire un ecovillage?   Sure! Here is a passage in French that answers the question \"Why can we build an eco-village?\"\n",
      "\n",
      "\"On peut construire un ecovillage pour plusieurs raisons. Tout d'abord, les ecovillages sont conçus pour minimiser l'impact environnemental des habitations et des activités humaines. Les architectures innovantes et les technologies durables utilisées dans ces villages permettront de réduire la consommation d'énergie et de ressources naturelles, en utilisant des matériaux recyclés, des systèmes d'eau et d'eaux usées efficacement gérés, et des espaces verts qui aidant à purifier l'air et à offrir un habitat naturel pour la biodiversité.\n",
      "\n",
      "Ensuite, les ecovillages sont des communautés vivantes et interactives, où les habitants travaillent ensemble pour créer un environnement sain et durable. Les membres de ces villages partagent des espaces communs, des activités et des ressources, ce qui favorise la coopération et la solidarité. Cela permet également de développer des compétences et des savoirs locaux, en utilisant des techniques traditionnelles et innovantes pour produire de manière autosuffisante.\n",
      "\n",
      "Enfin, les ecovillages sont des modèles de développement durable qui peuvent être reproduits et étendus à d'autres communautés et régions. Ils offrent un alternative à la urbanisation et au développement économique qui peuvent être destructeurs de l'environnement et de la qualité de vie. En construisant des ecovillages, on peut contribuer à la transition vers un modèle de développement durable et à la création d'une société plus équitable et respectueuse de l'environnement.\"\n",
      "\n",
      "Translation:\n",
      "\n",
      "\"We can build an eco-village for several reasons. Firstly, eco-villages are designed to minimize the environmental impact of housing and human activities. Innovative architectures and sustainable technologies used in these villages help reduce energy consumption and resource use, using recycled materials, efficient water and waste management systems, and green spaces that help purify the air and provide a natural habitat for biodiversity.\n",
      "\n",
      "Secondly, eco-villages are living and interactive communities where inhabitants work together to create a healthy and sustainable environment. Members of these villages share common spaces, activities, and resources, which fosters cooperation and solidarity. This also allows for the development of local skills and knowledge, using traditional and innovative techniques to produce self-sufficiently.\n",
      "\n",
      "Finally, eco-villages are examples of sustainable development that can be replicated and extended to other communities and regions. They offer an alternative to urbanization and economic development that can be destructive to the environment and quality of life. By building eco-villages, we can contribute to the transition towards a sustainable development model and create a more equitable and environmentally respectful society.\"\n"
     ]
    },
    {
     "name": "stderr",
     "output_type": "stream",
     "text": [
      "Expanding queries: 100%|██████████| 5/5 [00:29<00:00,  5.98s/it]\n"
     ]
    },
    {
     "name": "stdout",
     "output_type": "stream",
     "text": [
      "Comment sont créés les astéroïdes? Comment sont créés les astéroïdes? Comment sont créés les astéroïdes? Comment sont créés les astéroïdes? Comment sont créés les astéroïdes?   Sure! Here's a passage in French that answers the question \"How are asteroids created?\"\n",
      "\n",
      "Les astéroïdes sont créés à partir de la matière primitive du système solaire, qui a été chauffée et broyée lors de la formation de l'astre. Cette matière, composée de roches et de métaux, a été condensée et regroupée au fil du temps, formant des corpuscules plus gros et plus massifs. Les collisions entre ces corpuscules ont continué à se produire, créant des astéroïdes de plus en plus grands et plus massifs. Les astéroïdes sont ainsi créés à partir de la matière primitive du système solaire, par un processus de condensation, de collision et de regroupement.\n",
      "\n",
      "Translation:\n",
      "\n",
      "Asteroids are created from the primordial matter of the solar system, which was heated and crushed during the formation of the star. This matter, consisting of rocks and metals, was condensed and grouped together over time, forming larger and more massive bodies. Collisions between these bodies continued to occur, creating larger and more massive asteroids. Asteroids are thus created from the primordial matter of the solar system through a process of condensation, collision, and grouping.\n"
     ]
    },
    {
     "name": "stderr",
     "output_type": "stream",
     "text": [
      "Searching: 100%|██████████| 5/5 [00:02<00:00,  1.74it/s]"
     ]
    },
    {
     "name": "stdout",
     "output_type": "stream",
     "text": [
      "Llama 2 Recall@100: 0.4000\n",
      "Llama 2 nDCG@10: 0.1320\n",
      "\n",
      "\n"
     ]
    },
    {
     "name": "stderr",
     "output_type": "stream",
     "text": [
      "\n"
     ]
    }
   ],
   "source": [
    "for chat_name, chat in chats.items():\n",
    "    expanded_dataset = get_query_expansion_dataset(dataset[:5], chat, chat_name, lang='fr', prompt='q2d-zs')\n",
    "\n",
    "    recall, ndcg = run_search(searcher, expanded_dataset)\n",
    "    print(f'{chat_name} Recall@100: {recall:.4f}') \n",
    "    print(f'{chat_name} nDCG@10: {ndcg:.4f}')\n",
    "    print(\"\\n\")"
   ]
  }
 ],
 "metadata": {
  "kernelspec": {
   "display_name": "nlp",
   "language": "python",
   "name": "python3"
  },
  "language_info": {
   "codemirror_mode": {
    "name": "ipython",
    "version": 3
   },
   "file_extension": ".py",
   "mimetype": "text/x-python",
   "name": "python",
   "nbconvert_exporter": "python",
   "pygments_lexer": "ipython3",
   "version": "3.10.13"
  },
  "orig_nbformat": 4
 },
 "nbformat": 4,
 "nbformat_minor": 2
}
